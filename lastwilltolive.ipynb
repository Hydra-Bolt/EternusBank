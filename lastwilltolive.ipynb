{
 "cells": [
  {
   "cell_type": "code",
   "execution_count": 4,
   "metadata": {},
   "outputs": [
    {
     "name": "stdout",
     "output_type": "stream",
     "text": [
      "124998.75\n",
      "{'25/06/23': 1041, '25/07/23': 1041, '24/08/23': 1041, '23/09/23': 1041, '23/10/23': 1041, '22/11/23': 1041, '22/12/23': 1041, '21/01/24': 1041, '20/02/24': 1041, '21/03/24': 1041, '20/04/24': 1041, '20/05/24': 1041, '19/06/24': 1041, '19/07/24': 1041, '18/08/24': 1041, '17/09/24': 1041, '17/10/24': 1041, '16/11/24': 1041, '16/12/24': 1041, '15/01/25': 1041, '14/02/25': 1041, '16/03/25': 1041, '15/04/25': 1041, '15/05/25': 1041, '14/06/25': 1041, '14/07/25': 1041, '13/08/25': 1041, '12/09/25': 1041, '12/10/25': 1041, '11/11/25': 1041, '11/12/25': 1041, '10/01/26': 1041, '09/02/26': 1041, '11/03/26': 1041, '10/04/26': 1041, '10/05/26': 1041, '09/06/26': 1041, '09/07/26': 1041, '08/08/26': 1041, '07/09/26': 1041, '07/10/26': 1041, '06/11/26': 1041, '06/12/26': 1041, '05/01/27': 1041, '04/02/27': 1041, '06/03/27': 1041, '05/04/27': 1041, '05/05/27': 1041, '04/06/27': 1041, '04/07/27': 1041, '03/08/27': 1041, '02/09/27': 1041, '02/10/27': 1041, '01/11/27': 1041, '01/12/27': 1041, '31/12/27': 1041, '30/01/28': 1041, '29/02/28': 1041, '30/03/28': 1041, '29/04/28': 1041, '29/05/28': 1041, '28/06/28': 1041, '28/07/28': 1041, '27/08/28': 1041, '26/09/28': 1041, '26/10/28': 1041, '25/11/28': 1041, '25/12/28': 1041, '24/01/29': 1041, '23/02/29': 1041, '25/03/29': 1041, '24/04/29': 1041, '24/05/29': 1041, '23/06/29': 1041, '23/07/29': 1041, '22/08/29': 1041, '21/09/29': 1041, '21/10/29': 1041, '20/11/29': 1041, '20/12/29': 1041, '19/01/30': 1041, '18/02/30': 1041, '20/03/30': 1041, '19/04/30': 1041, '19/05/30': 1041, '18/06/30': 1041, '18/07/30': 1041, '17/08/30': 1041, '16/09/30': 1041, '16/10/30': 1041, '15/11/30': 1041, '15/12/30': 1041, '14/01/31': 1041, '13/02/31': 1041, '15/03/31': 1041, '14/04/31': 1041, '14/05/31': 1041, '13/06/31': 1041, '13/07/31': 1041, '12/08/31': 1041, '11/09/31': 1041, '11/10/31': 1041, '10/11/31': 1041, '10/12/31': 1041, '09/01/32': 1041, '08/02/32': 1041, '09/03/32': 1041, '08/04/32': 1041, '08/05/32': 1041, '07/06/32': 1041, '07/07/32': 1041, '06/08/32': 1041, '05/09/32': 1041, '05/10/32': 1041, '04/11/32': 1041, '04/12/32': 1041, '03/01/33': 1041, '02/02/33': 1041, '04/03/33': 1041, '03/04/33': 1041}\n",
      "25/07/23\n",
      "{'25/06/23': 1050, '25/07/23': 1050, '24/08/23': 1050, '23/09/23': 1050, '23/10/23': 1050, '22/11/23': 1050, '22/12/23': 1050, '21/01/24': 1050, '20/02/24': 1050, '21/03/24': 1050, '20/04/24': 1050, '20/05/24': 1050, '19/06/24': 1050, '19/07/24': 1050, '18/08/24': 1050, '17/09/24': 1050, '17/10/24': 1050, '16/11/24': 1050, '16/12/24': 1050, '15/01/25': 1050, '14/02/25': 1050, '16/03/25': 1050, '15/04/25': 1050, '15/05/25': 1050, '14/06/25': 1050, '14/07/25': 1050, '13/08/25': 1050, '12/09/25': 1050, '12/10/25': 1050, '11/11/25': 1050, '11/12/25': 1050, '10/01/26': 1050, '09/02/26': 1050, '11/03/26': 1050, '10/04/26': 1050, '10/05/26': 1050, '09/06/26': 1050, '09/07/26': 1050, '08/08/26': 1050, '07/09/26': 1050, '07/10/26': 1050, '06/11/26': 1050, '06/12/26': 1050, '05/01/27': 1050, '04/02/27': 1050, '06/03/27': 1050, '05/04/27': 1050, '05/05/27': 1050, '04/06/27': 1050, '04/07/27': 1050, '03/08/27': 1050, '02/09/27': 1050, '02/10/27': 1050, '01/11/27': 1050, '01/12/27': 1050, '31/12/27': 1050, '30/01/28': 1050, '29/02/28': 1050, '30/03/28': 1050, '29/04/28': 1050, '29/05/28': 1050, '28/06/28': 1050, '28/07/28': 1050, '27/08/28': 1050, '26/09/28': 1050, '26/10/28': 1050, '25/11/28': 1050, '25/12/28': 1050, '24/01/29': 1050, '23/02/29': 1050, '25/03/29': 1050, '24/04/29': 1050, '24/05/29': 1050, '23/06/29': 1050, '23/07/29': 1050, '22/08/29': 1050, '21/09/29': 1050, '21/10/29': 1050, '20/11/29': 1050, '20/12/29': 1050, '19/01/30': 1050, '18/02/30': 1050, '20/03/30': 1050, '19/04/30': 1050, '19/05/30': 1050, '18/06/30': 1050, '18/07/30': 1050, '17/08/30': 1050, '16/09/30': 1050, '16/10/30': 1050, '15/11/30': 1050, '15/12/30': 1050, '14/01/31': 1050, '13/02/31': 1050, '15/03/31': 1050, '14/04/31': 1050, '14/05/31': 1050, '13/06/31': 1050, '13/07/31': 1050, '12/08/31': 1050, '11/09/31': 1050, '11/10/31': 1050, '10/11/31': 1050, '10/12/31': 1050, '09/01/32': 1050, '08/02/32': 1050, '09/03/32': 1050, '08/04/32': 1050, '08/05/32': 1050, '07/06/32': 1050, '07/07/32': 1050, '06/08/32': 1050, '05/09/32': 1050, '05/10/32': 1050, '04/11/32': 1050, '04/12/32': 1050, '03/01/33': 1050, '02/02/33': 1050, '04/03/33': 1050, '03/04/33': 1050}\n",
      "1050\n"
     ]
    }
   ],
   "source": [
    "\n",
    "# yello = 123\n",
    "# for i in range(2):\n",
    "#     exec(\"\"\"\n",
    "# print(yello)\"\"\")\n",
    "    \n",
    "    \n",
    "#       self.transaction_1 = QtWidgets.QFrame(self.transactions)\n",
    "#         self.transaction_1.setFrameShape(QtWidgets.QFrame.StyledPanel)\n",
    "#         self.transaction_1.setFrameShadow(QtWidgets.QFrame.Raised)\n",
    "#         self.transaction_1.setObjectName(\"transaction_1\")\n",
    "#         self.horizontalLayout_19 = QtWidgets.QHBoxLayout(self.transaction_1)\n",
    "#         self.horizontalLayout_19.setObjectName(\"horizontalLayout_19\")\n",
    "#         self.amount_1 = QtWidgets.QLabel(self.transaction_1)\n",
    "#         self.amount_1.setObjectName(\"amount_1\")\n",
    "#         self.horizontalLayout_19.addWidget(self.amount_1)\n",
    "#         self.details_1 = QtWidgets.QFrame(self.transaction_1)\n",
    "#         self.details_1.setFrameShape(QtWidgets.QFrame.StyledPanel)\n",
    "#         self.details_1.setFrameShadow(QtWidgets.QFrame.Raised)\n",
    "#         self.details_1.setObjectName(\"details_1\")\n",
    "#         self.verticalLayout_25 = QtWidgets.QVBoxLayout(self.details_1)\n",
    "#         self.verticalLayout_25.setObjectName(\"verticalLayout_25\")\n",
    "#         self.withdrawn_1 = QtWidgets.QLabel(self.details_1)\n",
    "#         self.withdrawn_1.setObjectName(\"withdrawn_1\")\n",
    "#         self.verticalLayout_25.addWidget(self.withdrawn_1)\n",
    "#         self.date_1 = QtWidgets.QLabel(self.details_1)\n",
    "#         self.date_1.setObjectName(\"date_1\")\n",
    "#         self.verticalLayout_25.addWidget(self.date_1)\n",
    "#         self.horizontalLayout_19.addWidget(self.details_1)\n",
    "#         self.verticalLayout_21.addWidget(self.transaction_1)\n",
    "#         self.transaction_2 = QtWidgets.QFrame(self.transactions)\n",
    "#         self.transaction_2.setFrameShape(QtWidgets.QFrame.StyledPanel)\n",
    "#         self.transaction_2.setFrameShadow(QtWidgets.QFrame.Raised)\n",
    "#         self.transaction_2.setObjectName(\"transaction_2\")\n",
    "#         self.horizontalLayout_18 = QtWidgets.QHBoxLayout(self.transaction_2)\n",
    "#         self.horizontalLayout_18.setObjectName(\"horizontalLayout_18\")\n",
    "#         self.amount_2 = QtWidgets.QLabel(self.transaction_2)\n",
    "#         self.amount_2.setObjectName(\"amount_2\")\n",
    "#         self.horizontalLayout_18.addWidget(self.amount_2)\n",
    "#         self.details_2 = QtWidgets.QFrame(self.transaction_2)\n",
    "#         self.details_2.setFrameShape(QtWidgets.QFrame.StyledPanel)\n",
    "#         self.details_2.setFrameShadow(QtWidgets.QFrame.Raised)\n",
    "#         self.details_2.setObjectName(\"details_2\")\n",
    "#         self.verticalLayout_24 = QtWidgets.QVBoxLayout(self.details_2)\n",
    "#         self.verticalLayout_24.setObjectName(\"verticalLayout_24\")\n",
    "#         self.withdraw_2 = QtWidgets.QLabel(self.details_2)\n",
    "#         self.withdraw_2.setObjectName(\"withdraw_2\")\n",
    "#         self.verticalLayout_24.addWidget(self.withdraw_2)\n",
    "#         self.date_2 = QtWidgets.QLabel(self.details_2)\n",
    "#         self.date_2.setObjectName(\"date_2\")\n",
    "#         self.verticalLayout_24.addWidget(self.date_2)\n",
    "#         self.horizontalLayout_18.addWidget(self.details_2)\n",
    "#         self.verticalLayout_21.addWidget(self.transaction_2)\n",
    "#         self.transaction_3 = QtWidgets.QFrame(self.transactions)\n",
    "#         self.transaction_3.setFrameShape(QtWidgets.QFrame.StyledPanel)\n",
    "#         self.transaction_3.setFrameShadow(QtWidgets.QFrame.Raised)\n",
    "#         self.transaction_3.setObjectName(\"transaction_3\")\n",
    "#         self.horizontalLayout_20 = QtWidgets.QHBoxLayout(self.transaction_3)\n",
    "#         self.horizontalLayout_20.setObjectName(\"horizontalLayout_20\")\n",
    "#         self.amount_3 = QtWidgets.QLabel(self.transaction_3)\n",
    "#         self.amount_3.setObjectName(\"amount_3\")\n",
    "#         self.horizontalLayout_20.addWidget(self.amount_3)\n",
    "#         self.details_3 = QtWidgets.QFrame(self.transaction_3)\n",
    "#         self.details_3.setFrameShape(QtWidgets.QFrame.StyledPanel)\n",
    "#         self.details_3.setFrameShadow(QtWidgets.QFrame.Raised)\n",
    "#         self.details_3.setObjectName(\"details_3\")\n",
    "#         self.verticalLayout_26 = QtWidgets.QVBoxLayout(self.details_3)\n",
    "#         self.verticalLayout_26.setObjectName(\"verticalLayout_26\")\n",
    "#         self.withdraw_3 = QtWidgets.QLabel(self.details_3)\n",
    "#         self.withdraw_3.setObjectName(\"withdraw_3\")\n",
    "#         self.verticalLayout_26.addWidget(self.withdraw_3)\n",
    "#         self.date_3 = QtWidgets.QLabel(self.details_3)\n",
    "#         self.date_3.setObjectName(\"date_3\")\n",
    "#         self.verticalLayout_26.addWidget(self.date_3)\n",
    "#         self.horizontalLayout_20.addWidget(self.details_3)\n",
    "#         self.verticalLayout_21.addWidget(self.transaction_3)\n",
    "#         self.verticalLayout_9.addWidget(self.transactions)\n",
    "\n",
    "import datetime\n",
    "money = 99999\n",
    "money += money * 0.25\n",
    "print(money)\n",
    "\n",
    "passed_dates = {}\n",
    "due_dates = {\n",
    "    (datetime.date.today() + datetime.timedelta(days=30 * i)).strftime(\"%d/%m/%y\"): int(\n",
    "        money / (12 * 10)) for i in range(12 * 10)\n",
    "}\n",
    "print(due_dates)\n",
    "\n",
    "for date in due_dates:\n",
    "    if datetime.date.today() < datetime.datetime.strptime(date, \"%d/%m/%y\").date():\n",
    "        print(date)\n",
    "        break\n",
    "    else:\n",
    "        passed_dates[date] = due_dates[date]\n",
    "\n",
    "money += sum(passed_dates.values())\n",
    "\n",
    "due_dates = {\n",
    "    (datetime.date.today() + datetime.timedelta(days=30 * i)).strftime(\"%d/%m/%y\"): int(\n",
    "        money / (12 * 10)) for i in range(12 * 10)\n",
    "}\n",
    "print(due_dates)\n",
    "for date in due_dates:\n",
    "    if datetime.date.today() < datetime.datetime.strptime(date, \"%d/%m/%y\").date():\n",
    "        print(due_dates[date])\n",
    "        break\n",
    "\n",
    "# import pprint; pprint.pprint(due_dates)\n"
   ]
  },
  {
   "cell_type": "code",
   "execution_count": 7,
   "metadata": {},
   "outputs": [
    {
     "name": "stdout",
     "output_type": "stream",
     "text": [
      "['Deposit', '27/06/2023', 2000]\n",
      "['Withdraw', '27/06/2023', 321]\n",
      "['Deposit', '27/06/2023', 123]\n",
      "['Deposit', '27/06/2023', 2222]\n",
      "['Withdraw', '27/06/2023', 123]\n",
      "['Deposit', '27/06/2023', 211]\n",
      "['Deposit', '27/06/2023', 123]\n",
      "['Deposit', '27/06/2023', 22222]\n",
      "['Deposit', '27/06/2023', 1231]\n",
      "['Deposit', '27/06/2023', 22222]\n",
      "['Deposit', '27/06/2023', 3213]\n",
      "['Withdraw', '28/06/2023', 12]\n",
      "['Deposit', '28/06/2023', 123]\n",
      "['Deposit', '28/06/2023', 222]\n",
      "['Withdraw', '28/06/2023', 900]\n",
      "['Deposit', '02/07/2023', 20]\n",
      "['Withdraw', '02/07/2023', 4000]\n",
      "['Deposit', '02/07/2023', 129]\n",
      "  Transaction Dates  Amount\n",
      "0        27/06/2023   53123\n",
      "1        28/06/2023    -567\n",
      "2        02/07/2023   -3851\n",
      "[53123, -567, -3851]\n"
     ]
    }
   ],
   "source": [
    "import pandas as pd\n",
    "\n",
    "df = pd.read_json(\"DB.json\")\n",
    "transaction_history = []\n",
    "transaction_dates = {}\n",
    "\n",
    "for account in df[\"Accounts\"]:\n",
    "    for sub_account in account:\n",
    "        try:\n",
    "            for transaction in (sub_account[\"Transactions\"]):\n",
    "                print(transaction)\n",
    "                if transaction[1] not in transaction_dates:\n",
    "                    transaction_dates[transaction[1]] = []\n",
    "                if transaction[0] == \"Withdraw\":\n",
    "                    transaction_dates[transaction[1]].append(-int(transaction[2]))\n",
    "                else:\n",
    "                    transaction_dates[transaction[1]].append(int(transaction[2]))\n",
    "        except:\n",
    "            pass\n",
    "transaction_history = list(transaction_dates.keys())\n",
    "transaction_money = [sum(date) for date in transaction_dates.values()]\n",
    "transaction_history = pd.Series(transaction_history)\n",
    "transaction_history = pd.DataFrame(transaction_history, columns=['Transaction Dates'])\n",
    "transaction_history[\"Amount\"] = transaction_money\n",
    "print(transaction_history)\n",
    "print(transaction_money)"
   ]
  },
  {
   "cell_type": "code",
   "execution_count": 8,
   "metadata": {},
   "outputs": [
    {
     "data": {
      "text/html": [
       "<div>\n",
       "<style scoped>\n",
       "    .dataframe tbody tr th:only-of-type {\n",
       "        vertical-align: middle;\n",
       "    }\n",
       "\n",
       "    .dataframe tbody tr th {\n",
       "        vertical-align: top;\n",
       "    }\n",
       "\n",
       "    .dataframe thead th {\n",
       "        text-align: right;\n",
       "    }\n",
       "</style>\n",
       "<table border=\"1\" class=\"dataframe\">\n",
       "  <thead>\n",
       "    <tr style=\"text-align: right;\">\n",
       "      <th></th>\n",
       "      <th>Transaction Dates</th>\n",
       "      <th>Amount</th>\n",
       "    </tr>\n",
       "  </thead>\n",
       "  <tbody>\n",
       "    <tr>\n",
       "      <th>0</th>\n",
       "      <td>23/06/2023</td>\n",
       "      <td>0</td>\n",
       "    </tr>\n",
       "    <tr>\n",
       "      <th>1</th>\n",
       "      <td>24/06/2023</td>\n",
       "      <td>0</td>\n",
       "    </tr>\n",
       "    <tr>\n",
       "      <th>2</th>\n",
       "      <td>25/06/2023</td>\n",
       "      <td>0</td>\n",
       "    </tr>\n",
       "    <tr>\n",
       "      <th>3</th>\n",
       "      <td>26/06/2023</td>\n",
       "      <td>0</td>\n",
       "    </tr>\n",
       "    <tr>\n",
       "      <th>4</th>\n",
       "      <td>27/06/2023</td>\n",
       "      <td>53123</td>\n",
       "    </tr>\n",
       "    <tr>\n",
       "      <th>5</th>\n",
       "      <td>28/06/2023</td>\n",
       "      <td>-567</td>\n",
       "    </tr>\n",
       "    <tr>\n",
       "      <th>6</th>\n",
       "      <td>02/07/2023</td>\n",
       "      <td>-3851</td>\n",
       "    </tr>\n",
       "  </tbody>\n",
       "</table>\n",
       "</div>"
      ],
      "text/plain": [
       "  Transaction Dates  Amount\n",
       "0        23/06/2023       0\n",
       "1        24/06/2023       0\n",
       "2        25/06/2023       0\n",
       "3        26/06/2023       0\n",
       "4        27/06/2023   53123\n",
       "5        28/06/2023    -567\n",
       "6        02/07/2023   -3851"
      ]
     },
     "execution_count": 8,
     "metadata": {},
     "output_type": "execute_result"
    }
   ],
   "source": [
    "import datetime\n",
    "import pandas as pd\n",
    "\n",
    "# Assuming \"transaction_history\" is a DataFrame with \"Transaction Dates\" and \"Amount\" columns\n",
    "\n",
    "# Set default value of 0 for \"Amount\"\n",
    "\n",
    "if len(transaction_history[\"Transaction Dates\"]) > 7:\n",
    "    transaction_history[\"Transaction Dates\"] = transaction_history[\"Transaction Dates\"][:7]\n",
    "elif len(transaction_history[\"Transaction Dates\"]) < 7:\n",
    "    rem_dates = 7 - len(transaction_history[\"Transaction Dates\"])\n",
    "    new_list = []\n",
    "    for i in range(rem_dates):\n",
    "        new_date = (\n",
    "            datetime.datetime.strptime(\n",
    "                transaction_history[\"Transaction Dates\"][0], \"%d/%m/%Y\"\n",
    "            ).date()\n",
    "            - datetime.timedelta(days=i + 1)\n",
    "        ).strftime(\"%d/%m/%Y\")\n",
    "        new_list.append(new_date)\n",
    "    new_list.reverse()\n",
    "    new_list.extend(transaction_history[\"Transaction Dates\"])\n",
    "transaction_history = pd.DataFrame(new_list, columns=['Transaction Dates'])\n",
    "transaction_money.reverse()\n",
    "transaction_money =(transaction_money + [0 for i in range(rem_dates)])\n",
    "transaction_money.reverse()\n",
    "transaction_history[\"Amount\"] = transaction_money\n",
    "transaction_history"
   ]
  },
  {
   "cell_type": "code",
   "execution_count": 9,
   "metadata": {},
   "outputs": [
    {
     "data": {
      "image/png": "[encoded data removed]",
      "text/plain": [
       "<Figure size 900x400 with 1 Axes>"
      ]
     },
     "metadata": {},
     "output_type": "display_data"
    }
   ],
   "source": [
    "\n",
    "import matplotlib.pyplot as plt\n",
    "font = {'fontname': 'Modern No. 20', 'fontsize': 14}\n",
    "fig = plt.figure(figsize=(9, 4))\n",
    "ax = plt.axes(facecolor=\"white\")\n",
    "ax.spines[\"top\"].set_color(\"white\")\n",
    "ax.spines[\"right\"].set_color(\"white\")\n",
    "plt.xticks(**font)\n",
    "plt.yticks(**font)\n",
    "plt.ylim(min(transaction_history[\"Amount\"]), max(transaction_history[\"Amount\"]))\n",
    "plt.bar(transaction_history[\"Transaction Dates\"], transaction_history[\"Amount\"], color='green')\n",
    "plt.show()\n"
   ]
  },
  {
   "cell_type": "code",
   "execution_count": 1,
   "metadata": {},
   "outputs": [],
   "source": [
    "import tkinter as tk\n",
    "\n",
    "def display_selected():\n",
    "    selected_items = []\n",
    "    for i, var in enumerate(variables):\n",
    "        if var.get():\n",
    "            selected_items.append(f\"Item {i+1}\")\n",
    "    if selected_items:\n",
    "        selected_text = \", \".join(selected_items)\n",
    "        result_label.config(text=f\"Selected items: {selected_text}\")\n",
    "    else:\n",
    "        result_label.config(text=\"No items selected\")\n",
    "\n",
    "root = tk.Tk()\n",
    "root.title(\"Checkbutton Example\")\n",
    "\n",
    "# Create a list to store the variables for each Checkbutton\n",
    "variables = []\n",
    "\n",
    "# Create five Checkbuttons and associated variables\n",
    "for i in range(5):\n",
    "    var = tk.BooleanVar()\n",
    "    variables.append(var)\n",
    "    checkbutton = tk.Checkbutton(root, text=f\"Item {i+1}\", variable=var)\n",
    "    checkbutton.pack(anchor=tk.W)\n",
    "\n",
    "# Create a button to display the selected items\n",
    "display_button = tk.Button(root, text=\"Display Selected\", command=display_selected)\n",
    "display_button.pack(pady=10)\n",
    "\n",
    "# Create a label to show the result\n",
    "result_label = tk.Label(root, text=\"\")\n",
    "result_label.pack()\n",
    "\n",
    "root.mainloop()\n"
   ]
  },
  {
   "cell_type": "code",
   "execution_count": 4,
   "metadata": {},
   "outputs": [
    {
     "name": "stdout",
     "output_type": "stream",
     "text": [
      "1.7.2\n"
     ]
    }
   ],
   "source": [
    "import fpdf\n",
    "print(fpdf.__version__)"
   ]
  },
  {
   "cell_type": "code",
   "execution_count": 1,
   "metadata": {},
   "outputs": [
    {
     "name": "stdout",
     "output_type": "stream",
     "text": [
      "Collecting kaleido\n",
      "  Downloading kaleido-0.2.1-py2.py3-none-win_amd64.whl (65.9 MB)\n",
      "Installing collected packages: kaleido\n",
      "Successfully installed kaleido-0.2.1\n",
      "Note: you may need to restart the kernel to use updated packages.\n"
     ]
    },
    {
     "name": "stderr",
     "output_type": "stream",
     "text": [
      "WARNING: You are using pip version 21.3.1; however, version 23.1.2 is available.\n",
      "You should consider upgrading via the 'e:\\bankingApp\\venv\\Scripts\\python.exe -m pip install --upgrade pip' command.\n"
     ]
    }
   ],
   "source": [
    "\n",
    "%pip install -U kaleido"
   ]
  },
  {
   "cell_type": "code",
   "execution_count": 10,
   "metadata": {},
   "outputs": [
    {
     "ename": "ValueError",
     "evalue": "\nImage export using the \"kaleido\" engine requires the kaleido package,\nwhich can be installed using pip:\n    $ pip install -U kaleido\n",
     "output_type": "error",
     "traceback": [
      "\u001b[1;31m---------------------------------------------------------------------------\u001b[0m",
      "\u001b[1;31mValueError\u001b[0m                                Traceback (most recent call last)",
      "Cell \u001b[1;32mIn[10], line 18\u001b[0m\n\u001b[0;32m     15\u001b[0m fig\u001b[39m.\u001b[39madd_trace(go\u001b[39m.\u001b[39mBar(x\u001b[39m=\u001b[39mtransaction_history[\u001b[39m\"\u001b[39m\u001b[39mTransaction Dates\u001b[39m\u001b[39m\"\u001b[39m], y\u001b[39m=\u001b[39mtransaction_history[\u001b[39m\"\u001b[39m\u001b[39mAmount\u001b[39m\u001b[39m\"\u001b[39m], marker_color\u001b[39m=\u001b[39m\u001b[39m'\u001b[39m\u001b[39mgreen\u001b[39m\u001b[39m'\u001b[39m))\n\u001b[0;32m     17\u001b[0m \u001b[39m# Save the graph as a PNG file\u001b[39;00m\n\u001b[1;32m---> 18\u001b[0m fig\u001b[39m.\u001b[39;49mwrite_image(\u001b[39mf\u001b[39;49m\u001b[39m\"\u001b[39;49m\u001b[39m2.png\u001b[39;49m\u001b[39m\"\u001b[39;49m)\n",
      "File \u001b[1;32me:\\bankingApp\\venv\\lib\\site-packages\\plotly\\basedatatypes.py:3840\u001b[0m, in \u001b[0;36mBaseFigure.write_image\u001b[1;34m(self, *args, **kwargs)\u001b[0m\n\u001b[0;32m   3780\u001b[0m \u001b[39m\u001b[39m\u001b[39m\"\"\"\u001b[39;00m\n\u001b[0;32m   3781\u001b[0m \u001b[39mConvert a figure to a static image and write it to a file or writeable\u001b[39;00m\n\u001b[0;32m   3782\u001b[0m \u001b[39mobject\u001b[39;00m\n\u001b[1;32m   (...)\u001b[0m\n\u001b[0;32m   3836\u001b[0m \u001b[39mNone\u001b[39;00m\n\u001b[0;32m   3837\u001b[0m \u001b[39m\"\"\"\u001b[39;00m\n\u001b[0;32m   3838\u001b[0m \u001b[39mimport\u001b[39;00m \u001b[39mplotly\u001b[39;00m\u001b[39m.\u001b[39;00m\u001b[39mio\u001b[39;00m \u001b[39mas\u001b[39;00m \u001b[39mpio\u001b[39;00m\n\u001b[1;32m-> 3840\u001b[0m \u001b[39mreturn\u001b[39;00m pio\u001b[39m.\u001b[39mwrite_image(\u001b[39mself\u001b[39m, \u001b[39m*\u001b[39margs, \u001b[39m*\u001b[39m\u001b[39m*\u001b[39mkwargs)\n",
      "File \u001b[1;32me:\\bankingApp\\venv\\lib\\site-packages\\plotly\\io\\_kaleido.py:267\u001b[0m, in \u001b[0;36mwrite_image\u001b[1;34m(fig, file, format, scale, width, height, validate, engine)\u001b[0m\n\u001b[0;32m    251\u001b[0m             \u001b[39mraise\u001b[39;00m \u001b[39mValueError\u001b[39;00m(\n\u001b[0;32m    252\u001b[0m \u001b[39m                \u001b[39m\u001b[39m\"\"\"\u001b[39;00m\n\u001b[0;32m    253\u001b[0m \u001b[39mCannot infer image type from output path '{file}'.\u001b[39;00m\n\u001b[1;32m   (...)\u001b[0m\n\u001b[0;32m    261\u001b[0m                 )\n\u001b[0;32m    262\u001b[0m             )\n\u001b[0;32m    264\u001b[0m     \u001b[39m# Request image\u001b[39;00m\n\u001b[0;32m    265\u001b[0m     \u001b[39m# -------------\u001b[39;00m\n\u001b[0;32m    266\u001b[0m     \u001b[39m# Do this first so we don't create a file if image conversion fails\u001b[39;00m\n\u001b[1;32m--> 267\u001b[0m     img_data \u001b[39m=\u001b[39m to_image(\n\u001b[0;32m    268\u001b[0m         fig,\n\u001b[0;32m    269\u001b[0m         \u001b[39mformat\u001b[39;49m\u001b[39m=\u001b[39;49m\u001b[39mformat\u001b[39;49m,\n\u001b[0;32m    270\u001b[0m         scale\u001b[39m=\u001b[39;49mscale,\n\u001b[0;32m    271\u001b[0m         width\u001b[39m=\u001b[39;49mwidth,\n\u001b[0;32m    272\u001b[0m         height\u001b[39m=\u001b[39;49mheight,\n\u001b[0;32m    273\u001b[0m         validate\u001b[39m=\u001b[39;49mvalidate,\n\u001b[0;32m    274\u001b[0m         engine\u001b[39m=\u001b[39;49mengine,\n\u001b[0;32m    275\u001b[0m     )\n\u001b[0;32m    277\u001b[0m     \u001b[39m# Open file\u001b[39;00m\n\u001b[0;32m    278\u001b[0m     \u001b[39m# ---------\u001b[39;00m\n\u001b[0;32m    279\u001b[0m     \u001b[39mif\u001b[39;00m path \u001b[39mis\u001b[39;00m \u001b[39mNone\u001b[39;00m:\n\u001b[0;32m    280\u001b[0m         \u001b[39m# We previously failed to make sense of `file` as a pathlib object.\u001b[39;00m\n\u001b[0;32m    281\u001b[0m         \u001b[39m# Attempt to write to `file` as an open file descriptor.\u001b[39;00m\n",
      "File \u001b[1;32me:\\bankingApp\\venv\\lib\\site-packages\\plotly\\io\\_kaleido.py:133\u001b[0m, in \u001b[0;36mto_image\u001b[1;34m(fig, format, width, height, scale, validate, engine)\u001b[0m\n\u001b[0;32m    131\u001b[0m     \u001b[39m# Raise informative error message if Kaleido is not installed\u001b[39;00m\n\u001b[0;32m    132\u001b[0m     \u001b[39mif\u001b[39;00m scope \u001b[39mis\u001b[39;00m \u001b[39mNone\u001b[39;00m:\n\u001b[1;32m--> 133\u001b[0m         \u001b[39mraise\u001b[39;00m \u001b[39mValueError\u001b[39;00m(\n\u001b[0;32m    134\u001b[0m \u001b[39m            \u001b[39m\u001b[39m\"\"\"\u001b[39;00m\n\u001b[0;32m    135\u001b[0m \u001b[39mImage export using the \"kaleido\" engine requires the kaleido package,\u001b[39;00m\n\u001b[0;32m    136\u001b[0m \u001b[39mwhich can be installed using pip:\u001b[39;00m\n\u001b[0;32m    137\u001b[0m \u001b[39m    $ pip install -U kaleido\u001b[39;00m\n\u001b[0;32m    138\u001b[0m \u001b[39m\"\"\"\u001b[39;00m\n\u001b[0;32m    139\u001b[0m         )\n\u001b[0;32m    141\u001b[0m     \u001b[39m# Validate figure\u001b[39;00m\n\u001b[0;32m    142\u001b[0m     \u001b[39m# ---------------\u001b[39;00m\n\u001b[0;32m    143\u001b[0m     fig_dict \u001b[39m=\u001b[39m validate_coerce_fig_to_dict(fig, validate)\n",
      "\u001b[1;31mValueError\u001b[0m: \nImage export using the \"kaleido\" engine requires the kaleido package,\nwhich can be installed using pip:\n    $ pip install -U kaleido\n"
     ]
    }
   ],
   "source": [
    "\n",
    "# Reverse the transaction history\n",
    "transaction_history = transaction_history.iloc[::-1]\n",
    "\n",
    "fig = go.Figure()\n",
    "fig.update_layout(plot_bgcolor=\"white\")\n",
    "\n",
    "# Set font properties for x and y ticks\n",
    "font = {'family': 'Modern No. 20', 'size': 14}\n",
    "fig.update_layout(xaxis_tickfont=font, yaxis_tickfont=font)\n",
    "\n",
    "# Set the y-axis limits based on the minimum and maximum transaction amounts\n",
    "fig.update_layout(yaxis_range=[transaction_history[\"Amount\"].min(), transaction_history[\"Amount\"].max()])\n",
    "\n",
    "# Add a bar trace of the transaction dates and amounts\n",
    "fig.add_trace(go.Bar(x=transaction_history[\"Transaction Dates\"], y=transaction_history[\"Amount\"], marker_color='green'))\n",
    "\n",
    "# Save the graph as a PNG file\n",
    "fig.write_image(f\"2.png\")\n"
   ]
  },
  {
   "cell_type": "code",
   "execution_count": 15,
   "metadata": {},
   "outputs": [
    {
     "ename": "SyntaxError",
     "evalue": "invalid syntax (<string>, line 0)",
     "output_type": "error",
     "traceback": [
      "Traceback \u001b[1;36m(most recent call last)\u001b[0m:\n",
      "\u001b[0m  File \u001b[0;32me:\\bankingApp\\venv\\lib\\site-packages\\IPython\\core\\interactiveshell.py:3508\u001b[0m in \u001b[0;35mrun_code\u001b[0m\n    exec(code_obj, self.user_global_ns, self.user_ns)\u001b[0m\n",
      "\u001b[1;36m  Cell \u001b[1;32mIn[15], line 6\u001b[1;36m\n\u001b[1;33m    cream = eval(f.read())\u001b[1;36m\n",
      "\u001b[1;36m  File \u001b[1;32m<string>\u001b[1;36m\u001b[0m\n\u001b[1;33m    \u001b[0m\n\u001b[1;37m    ^\u001b[0m\n\u001b[1;31mSyntaxError\u001b[0m\u001b[1;31m:\u001b[0m invalid syntax\n"
     ]
    }
   ],
   "source": [
    "cream = [[\"Muneeb\"],[\"Shura\"]]\n",
    "\n",
    "f = open(\"file.txt\", \"r+\")\n",
    "f.write((str(cream)))\n",
    "f.flush()\n",
    "cream = eval(f.read())\n",
    "cream"
   ]
  },
  {
   "cell_type": "code",
   "execution_count": 12,
   "metadata": {},
   "outputs": [
    {
     "data": {
      "text/plain": [
       "[['Muneeb'], ['Shura']]"
      ]
     },
     "execution_count": 12,
     "metadata": {},
     "output_type": "execute_result"
    }
   ],
   "source": [
    "f = open(\"file.txt\", \"r\")\n",
    "\n",
    "\n",
    "cream = eval(f.read())\n",
    "cream"
   ]
  },
  {
   "cell_type": "code",
   "execution_count": 20,
   "metadata": {},
   "outputs": [
    {
     "name": "stdout",
     "output_type": "stream",
     "text": [
      "Perimeter =  15\n"
     ]
    }
   ],
   "source": [
    "from abc import ABC, abstractmethod, abstractproperty\n",
    "class Polygon(ABC):\n",
    "    def _init_(self, n, l = []):\n",
    "        self.no_of_sides = n\n",
    "    \n",
    "    def perimeter(self):\n",
    "        return sum(self.lengths)\n",
    "    \n",
    "    \n",
    "    @abstractproperty\n",
    "    def lengths(self):\n",
    "        pass\n",
    "    \n",
    "\n",
    "class Triangle(Polygon):\n",
    "    def __init__(self, l = [0,0,0]):  \n",
    "        super()._init_(n = 3)\n",
    "        self.__lengths = l\n",
    "    @property\n",
    "    def lengths(self):\n",
    "        return self.__lengths\n",
    "\n",
    "#<----------------------------------------- DRIVER CODE -------------------------------------->#\n",
    "\n",
    "T = Triangle([5,5,5])\n",
    "print('Perimeter = ',T.perimeter())"
   ]
  },
  {
   "cell_type": "code",
   "execution_count": 22,
   "metadata": {},
   "outputs": [
    {
     "name": "stdout",
     "output_type": "stream",
     "text": [
      "Perimeter =  15\n"
     ]
    }
   ],
   "source": [
    "from abc import ABC, abstractmethod, abstractproperty\n",
    "class Polygon(ABC):\n",
    "    def __init__(self, n, l = []):\n",
    "        self.no_of_sides = n\n",
    "    \n",
    "    def perimeter(self):\n",
    "        return sum(self.lengths)\n",
    "    \n",
    "    \n",
    "    @abstractproperty\n",
    "    def lengths(self):\n",
    "        pass\n",
    "    \n",
    "\n",
    "class Triangle(Polygon):\n",
    "    def __init__(self, l = [0,0,0]):  \n",
    "        super().__init__(n = 3)\n",
    "        self.__lengths = l\n",
    "    @property\n",
    "    def lengths(self):\n",
    "        return self.__lengths\n",
    "\n",
    "#<----------------------------------------- DRIVER CODE -------------------------------------->#\n",
    "\n",
    "T = Triangle([5,5,5])\n",
    "print('Perimeter = ',T.perimeter())"
   ]
  },
  {
   "cell_type": "code",
   "execution_count": 1,
   "metadata": {},
   "outputs": [
    {
     "data": {
      "text/plain": [
       "[1, 4]"
      ]
     },
     "execution_count": 1,
     "metadata": {},
     "output_type": "execute_result"
    }
   ],
   "source": [
    "py = [1,4]\n",
    "py[:4]"
   ]
  }
 ],
 "metadata": {
  "kernelspec": {
   "display_name": "venv",
   "language": "python",
   "name": "python3"
  },
  "language_info": {
   "codemirror_mode": {
    "name": "ipython",
    "version": 3
   },
   "file_extension": ".py",
   "mimetype": "text/x-python",
   "name": "python",
   "nbconvert_exporter": "python",
   "pygments_lexer": "ipython3",
   "version": "3.10.6"
  },
  "orig_nbformat": 4
 },
 "nbformat": 4,
 "nbformat_minor": 2
}
